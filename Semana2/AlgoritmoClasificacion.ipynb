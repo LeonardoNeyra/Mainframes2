{
 "cells": [
  {
   "cell_type": "markdown",
   "metadata": {},
   "source": [
    "## Sistema de Clasificación\n",
    "Alumno: _Leonardo Neyra Ocaña_\n",
    "\n",
    "ID: 000136067\n",
    "\n",
    "_ICSI-UPAO_"
   ]
  },
  {
   "cell_type": "code",
   "execution_count": null,
   "metadata": {},
   "outputs": [],
   "source": [
    "#Import packages\n",
    "import random\n",
    "import math\n",
    "import pandas as pd\n",
    "import numpy as np"
   ]
  },
  {
   "cell_type": "code",
   "execution_count": null,
   "metadata": {},
   "outputs": [],
   "source": [
    "#Generar conjunto de datos - Forma 1\n",
    "#EXISTEN ERRORES NO SOLUCIONADOS!\n",
    "def datos1():\n",
    "    ListPeliculas = [i for i in range(1,1000)]\n",
    "    ListCategorias = [i for i in range(1,30)]\n",
    "    peliculas = [random.sample(ListPeliculas,100)]\n",
    "    categorias = [random.sample(ListCategorias,100)]\n",
    "    #Sample no puede repetir\n",
    "    dt = pd.DataFrame({'Categoria':categorias,'Pelicula':peliculas})\n",
    "    #About pandas: https://pandas.pydata.org/pandas-docs/stable/generated/pandas.DataFrame.html\n",
    "    return dt"
   ]
  },
  {
   "cell_type": "code",
   "execution_count": null,
   "metadata": {},
   "outputs": [],
   "source": [
    "#Generar conjunto de datos - Forma 2\n",
    "#Funcional\n",
    "def datos2():\n",
    "    ListCategorias = [i for i in range(1,30)]\n",
    "    categorias = np.random.choice(ListCategorias, 100)\n",
    "    ListPeliculas = [i for i in range(1,1000)]\n",
    "    peliculas = np.random.choice(ListPeliculas,100,replace=False)\n",
    "    dt = pd.DataFrame({'Categoria':categorias,'Pelicula':peliculas})\n",
    "    return dt"
   ]
  },
  {
   "cell_type": "code",
   "execution_count": null,
   "metadata": {},
   "outputs": [],
   "source": [
    "#GENERAR DATOS DE PRUEBA\n",
    "dataset = datos2()\n",
    "x1 = 25\n",
    "y1 = 500"
   ]
  },
  {
   "cell_type": "markdown",
   "metadata": {},
   "source": [
    "## Calculo de Distancias\n",
    "##### More Info: https://dataconomy.com/2015/04/implementing-the-five-most-popular-similarity-measures-in-python/\n",
    "* Calculo de distancia Manhattan\n"
   ]
  },
  {
   "cell_type": "code",
   "execution_count": null,
   "metadata": {},
   "outputs": [],
   "source": [
    "#Calculo de distancia Manhattan\n",
    "def dManhattan(x1,y1,x2,y2):\n",
    "    dm = np.abs((x2-x1))+np.abs((y2-y1))\n",
    "    return dm "
   ]
  },
  {
   "cell_type": "code",
   "execution_count": null,
   "metadata": {},
   "outputs": [],
   "source": [
    "#Prueba de la funcion dManhattan\n",
    "dManhattan(0,0,28,11)"
   ]
  },
  {
   "cell_type": "markdown",
   "metadata": {},
   "source": [
    "* Calculo de distancia Coseno"
   ]
  },
  {
   "cell_type": "code",
   "execution_count": null,
   "metadata": {},
   "outputs": [],
   "source": [
    "from math import*\n",
    "#Calculo de distancia Coseno\n",
    "def dCoseno(x1,y1,x2,y2):\n",
    "    v1 = np.array([x1,y1])\n",
    "    v2 = np.array([x2,y2])\n",
    "    dc = 1 - ((v1*v2)/abs(v1)*abs(v2))\n",
    "    return dc\n",
    "\n",
    "#Otra forma\n",
    "def raiz_cuadrada(x):\n",
    "    return round(sqrt(sum([a*a for a in x])),3)\n",
    "  \n",
    "def cosine_similarity(x,y):\n",
    "    numerator = sum(a*b for a,b in zip(x,y))\n",
    "    denominator = raiz_cuadrada(x)*raiz_cuadrada(y)\n",
    "    return round(numerator/float(denominator),3)"
   ]
  },
  {
   "cell_type": "code",
   "execution_count": null,
   "metadata": {},
   "outputs": [],
   "source": [
    "#Prueba de la funcion Coseno\n",
    "dCoseno(1,1,3,-10)\n",
    "#Prueba de otra forma Coseno\n",
    "cosine_similarity([3, 45, 7, 2], [2, 54, 13, 15])"
   ]
  },
  {
   "cell_type": "markdown",
   "metadata": {},
   "source": [
    "* Calculo de distancia Jaccard"
   ]
  },
  {
   "cell_type": "code",
   "execution_count": null,
   "metadata": {},
   "outputs": [],
   "source": [
    "#Calculo de distancia Jaccard\n",
    "def dJaccard(x1,y1,x2,y2):\n",
    "    v1 = np.array([x1,y1])\n",
    "    v2 = np.array([x2,y2])\n",
    "    #dj = distance.jaccard(v1,v2)\n",
    "    dj = float(len(v1 & v2)) / len(v1 | v2)\n",
    "    return dj"
   ]
  },
  {
   "cell_type": "code",
   "execution_count": null,
   "metadata": {},
   "outputs": [],
   "source": [
    "#Prueba de la funcion Jaccard\n",
    "dJaccard(2,8,17,23)"
   ]
  },
  {
   "cell_type": "markdown",
   "metadata": {},
   "source": [
    "## Algoritmos de Recomendacion\n",
    "* Calculo de recomendacion con distancia Manhattan\n"
   ]
  },
  {
   "cell_type": "code",
   "execution_count": null,
   "metadata": {},
   "outputs": [],
   "source": [
    "def recomendarM(dt,x1,y1):\n",
    "    distM = dManhattan(dt.loc[:,'Categoria'], dt.loc[:,'Pelicula'],x1,y1) \n",
    "    #Mas información en uso de DF: https://www.shanelynn.ie/using-pandas-dataframe-creating-editing-viewing-data-in-python/\n",
    "    #dt = np.c_[dt,distM]\n",
    "    #About cbind: https://stackoverflow.com/questions/43961585/cbind-r-function-equivalent-in-numpy\n",
    "    dt['distM']=distM    \n",
    "    return dt"
   ]
  },
  {
   "cell_type": "code",
   "execution_count": null,
   "metadata": {},
   "outputs": [],
   "source": [
    "rM = recomendarM(dataset,x1,y1)"
   ]
  },
  {
   "cell_type": "code",
   "execution_count": null,
   "metadata": {},
   "outputs": [],
   "source": [
    "#Generar recomendacion\n",
    "temp = recomendarM(dataset,x1,y1)\n",
    "ordenado = np.sort(temp.loc[:,'distM'])\n",
    "top5 = ordenado[:5]\n",
    "print(top5)"
   ]
  },
  {
   "cell_type": "code",
   "execution_count": null,
   "metadata": {},
   "outputs": [],
   "source": [
    "def determinaPeliculas(top5,dt):\n",
    "    idp = []\n",
    "    compare = rM.distM.isin(top5)\n",
    "    is_long=pd.Series(compare)\n",
    "    return rM[is_long]"
   ]
  },
  {
   "cell_type": "code",
   "execution_count": null,
   "metadata": {},
   "outputs": [],
   "source": [
    "peliM = determinaPeliculas(top5,rM)\n",
    "print(peliM)"
   ]
  },
  {
   "cell_type": "markdown",
   "metadata": {},
   "source": [
    "* Calculo de recomendacion con distancia Coseno"
   ]
  },
  {
   "cell_type": "code",
   "execution_count": null,
   "metadata": {},
   "outputs": [],
   "source": [
    "def recomendarC(dt,x1,y1):\n",
    "    distC = dCoseno(dt.loc[:,'Categoria'], dt.loc[:,'Pelicula'],x1,y1) \n",
    "    dt['distC']=distC    \n",
    "    return dt"
   ]
  },
  {
   "cell_type": "code",
   "execution_count": null,
   "metadata": {},
   "outputs": [],
   "source": [
    "rC = recomendarC(dataset,x1,y1)"
   ]
  },
  {
   "cell_type": "code",
   "execution_count": null,
   "metadata": {},
   "outputs": [],
   "source": [
    "#Generar recomendacion\n",
    "temp = recomendarC(dataset,x1,y1)\n",
    "ordenado = np.sort(temp.loc[:,'distC'])\n",
    "top5 = ordenado[:5]\n",
    "print(top5)"
   ]
  },
  {
   "cell_type": "code",
   "execution_count": null,
   "metadata": {},
   "outputs": [],
   "source": [
    "def determinaPeliculaC(top5,dt):\n",
    "    idp = []\n",
    "    compare = rC.distC.isin(top5)\n",
    "    is_long=pd.Series(compare)\n",
    "    return rC[is_long]"
   ]
  },
  {
   "cell_type": "code",
   "execution_count": null,
   "metadata": {},
   "outputs": [],
   "source": [
    "peliC = determinaPeliculaC(top5,rC)\n",
    "print(peliC)"
   ]
  },
  {
   "cell_type": "markdown",
   "metadata": {},
   "source": [
    "* Calculo de recomendacion con distancia Jaccard"
   ]
  },
  {
   "cell_type": "code",
   "execution_count": null,
   "metadata": {},
   "outputs": [],
   "source": [
    "def recomendarJ(dt,x1,y1):\n",
    "    distJ = dJaccard(dt.loc[:,'Categoria'], dt.loc[:,'Pelicula'],x1,y1) \n",
    "    dt['distJ']=distJ   \n",
    "    return dt"
   ]
  },
  {
   "cell_type": "code",
   "execution_count": null,
   "metadata": {},
   "outputs": [],
   "source": [
    "rJ = recomendarJ(dataset,x1,y1)"
   ]
  },
  {
   "cell_type": "code",
   "execution_count": null,
   "metadata": {},
   "outputs": [],
   "source": [
    "#Generar recomendacion\n",
    "temp = recomendarJ(dataset,x1,y1)\n",
    "ordenado = np.sort(temp.loc[:,'distJ'])\n",
    "top5 = ordenado[:5]\n",
    "print(top5)"
   ]
  },
  {
   "cell_type": "code",
   "execution_count": null,
   "metadata": {},
   "outputs": [],
   "source": [
    "def determinaPeliculaJ(top5,dt):\n",
    "    idp = []\n",
    "    compare = rJ.distJ.isin(top5)\n",
    "    is_long=pd.Series(compare)\n",
    "    return rJ[is_long]"
   ]
  },
  {
   "cell_type": "code",
   "execution_count": null,
   "metadata": {},
   "outputs": [],
   "source": [
    "peliJ = determinaPeliculaJ(top5,rC)\n",
    "print(peliJ)"
   ]
  }
 ],
 "metadata": {
  "kernelspec": {
   "display_name": "Python 3",
   "language": "python",
   "name": "python3"
  },
  "language_info": {
   "codemirror_mode": {
    "name": "ipython",
    "version": 3
   },
   "file_extension": ".py",
   "mimetype": "text/x-python",
   "name": "python",
   "nbconvert_exporter": "python",
   "pygments_lexer": "ipython3",
   "version": "3.6.6"
  }
 },
 "nbformat": 4,
 "nbformat_minor": 2
}
