{
 "cells": [
  {
   "cell_type": "markdown",
   "metadata": {},
   "source": [
    "## Algoritmo de Regresiones\n",
    "### Lineales y No Lineales\n",
    "\n",
    "Alumno: Leonardo Neyra Ocaña\n",
    "\n",
    "UPAO 2018-10"
   ]
  },
  {
   "cell_type": "code",
   "execution_count": 2,
   "metadata": {},
   "outputs": [],
   "source": [
    "#importar paquetes\n",
    "import numpy as np\n",
    "import random as rn\n",
    "import pandas as pd\n",
    "import math as mt"
   ]
  },
  {
   "cell_type": "code",
   "execution_count": 3,
   "metadata": {},
   "outputs": [],
   "source": [
    "#Funcion de Creacion del dataset\n",
    "def crearDataSet():\n",
    "    x = [14,7,13,12,16,14,18,13,12,16,13]\n",
    "    y = [16,12,13,14,15,12,16,11,13,18,17]\n",
    "    df = pd.DataFrame({'X': x, 'Y': y})\n",
    "    return df"
   ]
  },
  {
   "cell_type": "code",
   "execution_count": 8,
   "metadata": {},
   "outputs": [
    {
     "data": {
      "text/html": [
       "<div>\n",
       "<style scoped>\n",
       "    .dataframe tbody tr th:only-of-type {\n",
       "        vertical-align: middle;\n",
       "    }\n",
       "\n",
       "    .dataframe tbody tr th {\n",
       "        vertical-align: top;\n",
       "    }\n",
       "\n",
       "    .dataframe thead th {\n",
       "        text-align: right;\n",
       "    }\n",
       "</style>\n",
       "<table border=\"1\" class=\"dataframe\">\n",
       "  <thead>\n",
       "    <tr style=\"text-align: right;\">\n",
       "      <th></th>\n",
       "      <th>X</th>\n",
       "      <th>Y</th>\n",
       "    </tr>\n",
       "  </thead>\n",
       "  <tbody>\n",
       "    <tr>\n",
       "      <th>0</th>\n",
       "      <td>14</td>\n",
       "      <td>16</td>\n",
       "    </tr>\n",
       "    <tr>\n",
       "      <th>1</th>\n",
       "      <td>7</td>\n",
       "      <td>12</td>\n",
       "    </tr>\n",
       "    <tr>\n",
       "      <th>2</th>\n",
       "      <td>13</td>\n",
       "      <td>13</td>\n",
       "    </tr>\n",
       "    <tr>\n",
       "      <th>3</th>\n",
       "      <td>12</td>\n",
       "      <td>14</td>\n",
       "    </tr>\n",
       "    <tr>\n",
       "      <th>4</th>\n",
       "      <td>16</td>\n",
       "      <td>15</td>\n",
       "    </tr>\n",
       "    <tr>\n",
       "      <th>5</th>\n",
       "      <td>14</td>\n",
       "      <td>12</td>\n",
       "    </tr>\n",
       "    <tr>\n",
       "      <th>6</th>\n",
       "      <td>18</td>\n",
       "      <td>16</td>\n",
       "    </tr>\n",
       "    <tr>\n",
       "      <th>7</th>\n",
       "      <td>13</td>\n",
       "      <td>11</td>\n",
       "    </tr>\n",
       "    <tr>\n",
       "      <th>8</th>\n",
       "      <td>12</td>\n",
       "      <td>13</td>\n",
       "    </tr>\n",
       "    <tr>\n",
       "      <th>9</th>\n",
       "      <td>16</td>\n",
       "      <td>18</td>\n",
       "    </tr>\n",
       "    <tr>\n",
       "      <th>10</th>\n",
       "      <td>13</td>\n",
       "      <td>17</td>\n",
       "    </tr>\n",
       "  </tbody>\n",
       "</table>\n",
       "</div>"
      ],
      "text/plain": [
       "     X   Y\n",
       "0   14  16\n",
       "1    7  12\n",
       "2   13  13\n",
       "3   12  14\n",
       "4   16  15\n",
       "5   14  12\n",
       "6   18  16\n",
       "7   13  11\n",
       "8   12  13\n",
       "9   16  18\n",
       "10  13  17"
      ]
     },
     "execution_count": 8,
     "metadata": {},
     "output_type": "execute_result"
    }
   ],
   "source": [
    "#Generar dataset\n",
    "datos = crearDataSet()\n",
    "datos"
   ]
  },
  {
   "cell_type": "code",
   "execution_count": 9,
   "metadata": {},
   "outputs": [],
   "source": [
    "#Funcion para calcular matriz\n",
    "#Source: https://pandas.pydata.org/pandas-docs/stable/generated/pandas.DataFrame.html\n",
    "#Source: https://pandas.pydata.org/pandas-docs/stable/generated/pandas.DataFrame.append.html\n",
    "def calcularMatriz(dt):\n",
    "    xy = (dt.loc[:,'X'])*(dt.loc[:,'Y'])\n",
    "    x2 = (dt.loc[:,'X'])*(dt.loc[:,'X'])\n",
    "    y2 = (dt.loc[:,'Y'])*(dt.loc[:,'Y'])\n",
    "    #Agregar columnas\n",
    "    dt['XY'] = xy\n",
    "    dt['X2'] = x2\n",
    "    dt['Y2'] = y2\n",
    "    sx = sum(dt.X)\n",
    "    sy = sum(dt.Y)\n",
    "    sxy = sum(dt.XY)\n",
    "    sx2 = sum(dt.X2)\n",
    "    sy2 = sum(dt.Y2)\n",
    "    #Constructing DataFrame from numpy ndarray\n",
    "    #Agregar una fila con los totalizados\n",
    "    temp = pd.DataFrame([[sx, sy, sxy, sx2, sy2]], columns=['X','Y','XY','X2','Y2'])\n",
    "    dt = dt.append(temp, ignore_index = True)\n",
    "    return dt"
   ]
  },
  {
   "cell_type": "code",
   "execution_count": 20,
   "metadata": {},
   "outputs": [
    {
     "data": {
      "text/html": [
       "<div>\n",
       "<style scoped>\n",
       "    .dataframe tbody tr th:only-of-type {\n",
       "        vertical-align: middle;\n",
       "    }\n",
       "\n",
       "    .dataframe tbody tr th {\n",
       "        vertical-align: top;\n",
       "    }\n",
       "\n",
       "    .dataframe thead th {\n",
       "        text-align: right;\n",
       "    }\n",
       "</style>\n",
       "<table border=\"1\" class=\"dataframe\">\n",
       "  <thead>\n",
       "    <tr style=\"text-align: right;\">\n",
       "      <th></th>\n",
       "      <th>X</th>\n",
       "      <th>Y</th>\n",
       "      <th>XY</th>\n",
       "      <th>X2</th>\n",
       "      <th>Y2</th>\n",
       "    </tr>\n",
       "  </thead>\n",
       "  <tbody>\n",
       "    <tr>\n",
       "      <th>0</th>\n",
       "      <td>14</td>\n",
       "      <td>16</td>\n",
       "      <td>224</td>\n",
       "      <td>196</td>\n",
       "      <td>256</td>\n",
       "    </tr>\n",
       "    <tr>\n",
       "      <th>1</th>\n",
       "      <td>7</td>\n",
       "      <td>12</td>\n",
       "      <td>84</td>\n",
       "      <td>49</td>\n",
       "      <td>144</td>\n",
       "    </tr>\n",
       "    <tr>\n",
       "      <th>2</th>\n",
       "      <td>13</td>\n",
       "      <td>13</td>\n",
       "      <td>169</td>\n",
       "      <td>169</td>\n",
       "      <td>169</td>\n",
       "    </tr>\n",
       "    <tr>\n",
       "      <th>3</th>\n",
       "      <td>12</td>\n",
       "      <td>14</td>\n",
       "      <td>168</td>\n",
       "      <td>144</td>\n",
       "      <td>196</td>\n",
       "    </tr>\n",
       "    <tr>\n",
       "      <th>4</th>\n",
       "      <td>16</td>\n",
       "      <td>15</td>\n",
       "      <td>240</td>\n",
       "      <td>256</td>\n",
       "      <td>225</td>\n",
       "    </tr>\n",
       "    <tr>\n",
       "      <th>5</th>\n",
       "      <td>14</td>\n",
       "      <td>12</td>\n",
       "      <td>168</td>\n",
       "      <td>196</td>\n",
       "      <td>144</td>\n",
       "    </tr>\n",
       "    <tr>\n",
       "      <th>6</th>\n",
       "      <td>18</td>\n",
       "      <td>16</td>\n",
       "      <td>288</td>\n",
       "      <td>324</td>\n",
       "      <td>256</td>\n",
       "    </tr>\n",
       "    <tr>\n",
       "      <th>7</th>\n",
       "      <td>13</td>\n",
       "      <td>11</td>\n",
       "      <td>143</td>\n",
       "      <td>169</td>\n",
       "      <td>121</td>\n",
       "    </tr>\n",
       "    <tr>\n",
       "      <th>8</th>\n",
       "      <td>12</td>\n",
       "      <td>13</td>\n",
       "      <td>156</td>\n",
       "      <td>144</td>\n",
       "      <td>169</td>\n",
       "    </tr>\n",
       "    <tr>\n",
       "      <th>9</th>\n",
       "      <td>16</td>\n",
       "      <td>18</td>\n",
       "      <td>288</td>\n",
       "      <td>256</td>\n",
       "      <td>324</td>\n",
       "    </tr>\n",
       "    <tr>\n",
       "      <th>10</th>\n",
       "      <td>13</td>\n",
       "      <td>17</td>\n",
       "      <td>221</td>\n",
       "      <td>169</td>\n",
       "      <td>289</td>\n",
       "    </tr>\n",
       "    <tr>\n",
       "      <th>11</th>\n",
       "      <td>148</td>\n",
       "      <td>157</td>\n",
       "      <td>2149</td>\n",
       "      <td>2072</td>\n",
       "      <td>2293</td>\n",
       "    </tr>\n",
       "  </tbody>\n",
       "</table>\n",
       "</div>"
      ],
      "text/plain": [
       "      X    Y    XY    X2    Y2\n",
       "0    14   16   224   196   256\n",
       "1     7   12    84    49   144\n",
       "2    13   13   169   169   169\n",
       "3    12   14   168   144   196\n",
       "4    16   15   240   256   225\n",
       "5    14   12   168   196   144\n",
       "6    18   16   288   324   256\n",
       "7    13   11   143   169   121\n",
       "8    12   13   156   144   169\n",
       "9    16   18   288   256   324\n",
       "10   13   17   221   169   289\n",
       "11  148  157  2149  2072  2293"
      ]
     },
     "execution_count": 20,
     "metadata": {},
     "output_type": "execute_result"
    }
   ],
   "source": [
    "#Calcular matriz\n",
    "matriz = calcularMatriz(datos)\n",
    "matriz"
   ]
  },
  {
   "cell_type": "code",
   "execution_count": 61,
   "metadata": {},
   "outputs": [],
   "source": [
    "#Funcion para calcular R(Coeficiente de correlacion)\n",
    "def calcularR(dt):\n",
    "    promx = dt.loc[11:,'X']/11\n",
    "    promy = dt.loc[11:,'Y']/11\n",
    "    promx2 = promx*promx\n",
    "    promy2 = promy*promy\n",
    "    covxy = (dt.loc[11:,'XY']/11)-(promx*promy)\n",
    "    desvx = mt.sqrt((dt.loc[11:,'X2']/11)-promx2)\n",
    "    desvy = mt.sqrt((dt.loc[11:,'Y2']/11)-promy2)\n",
    "    r = (covxy)/(desvx*desvy)\n",
    "    dt = pd.DataFrame([[promx, promy, covxy, desvx, desvy, r]], \n",
    "                      columns=['PromX','PromY','CovXY','DesvX','DesvY','R'])\n",
    "    return dt"
   ]
  },
  {
   "cell_type": "code",
   "execution_count": 62,
   "metadata": {},
   "outputs": [
    {
     "data": {
      "text/html": [
       "<div>\n",
       "<style scoped>\n",
       "    .dataframe tbody tr th:only-of-type {\n",
       "        vertical-align: middle;\n",
       "    }\n",
       "\n",
       "    .dataframe tbody tr th {\n",
       "        vertical-align: top;\n",
       "    }\n",
       "\n",
       "    .dataframe thead th {\n",
       "        text-align: right;\n",
       "    }\n",
       "</style>\n",
       "<table border=\"1\" class=\"dataframe\">\n",
       "  <thead>\n",
       "    <tr style=\"text-align: right;\">\n",
       "      <th></th>\n",
       "      <th>PromX</th>\n",
       "      <th>PromY</th>\n",
       "      <th>CovXY</th>\n",
       "      <th>DesvX</th>\n",
       "      <th>DesvY</th>\n",
       "      <th>R</th>\n",
       "    </tr>\n",
       "  </thead>\n",
       "  <tbody>\n",
       "    <tr>\n",
       "      <th>0</th>\n",
       "      <td>11    13.454545\n",
       "Name: X, dtype: float64</td>\n",
       "      <td>11    14.272727\n",
       "Name: Y, dtype: float64</td>\n",
       "      <td>11    3.330579\n",
       "dtype: float64</td>\n",
       "      <td>2.70903</td>\n",
       "      <td>2.178027</td>\n",
       "      <td>11    0.564472\n",
       "dtype: float64</td>\n",
       "    </tr>\n",
       "  </tbody>\n",
       "</table>\n",
       "</div>"
      ],
      "text/plain": [
       "                                     PromX  \\\n",
       "0  11    13.454545\n",
       "Name: X, dtype: float64   \n",
       "\n",
       "                                     PromY                          CovXY  \\\n",
       "0  11    14.272727\n",
       "Name: Y, dtype: float64  11    3.330579\n",
       "dtype: float64   \n",
       "\n",
       "     DesvX     DesvY                              R  \n",
       "0  2.70903  2.178027  11    0.564472\n",
       "dtype: float64  "
      ]
     },
     "execution_count": 62,
     "metadata": {},
     "output_type": "execute_result"
    }
   ],
   "source": [
    "#Calcular R\n",
    "R = calcularR(matriz)\n",
    "R"
   ]
  },
  {
   "cell_type": "code",
   "execution_count": 63,
   "metadata": {},
   "outputs": [],
   "source": [
    "#Funcion para obtener un nuevo X\n",
    "def nuevoY(dt, x):\n",
    "    newy = ((dt.CovXY/(dt.DesvX*dt.DesvX))*(x-dt.PromX))+dt.PromY\n",
    "    return newy\n",
    "\n",
    "#Funcion para obtener un nuevo X\n",
    "def nuevoX(dt, y):\n",
    "    newx = ((dt.CovXY/(dt.DesvY*dt.DesvY))*(y-dt.PromY))+dt.PromX\n",
    "    return newx"
   ]
  },
  {
   "cell_type": "code",
   "execution_count": 64,
   "metadata": {},
   "outputs": [
    {
     "data": {
      "text/plain": [
       "0    11    23.092334\n",
       "dtype: float64\n",
       "dtype: object"
      ]
     },
     "execution_count": 64,
     "metadata": {},
     "output_type": "execute_result"
    }
   ],
   "source": [
    "#Calcular nuevo X\n",
    "nuevoX(R,28)"
   ]
  },
  {
   "cell_type": "code",
   "execution_count": 65,
   "metadata": {},
   "outputs": [
    {
     "data": {
      "text/plain": [
       "0    11    20.873874\n",
       "dtype: float64\n",
       "dtype: object"
      ]
     },
     "execution_count": 65,
     "metadata": {},
     "output_type": "execute_result"
    }
   ],
   "source": [
    "#Calcular nuevo Y\n",
    "nuevoY(R,28)"
   ]
  },
  {
   "cell_type": "markdown",
   "metadata": {},
   "source": [
    "#### Ahora vamos a implementar la funcion para predecir por medio del metodo de minimos cuadrados para regresiones no lineales (en este caso se usará una regresion cuadrática)"
   ]
  },
  {
   "cell_type": "code",
   "execution_count": 68,
   "metadata": {},
   "outputs": [],
   "source": [
    "#Funciona para minimos cuadrados\n",
    "def calcularMinCuadrados(dt, newx):\n",
    "    xy = (dt.loc[:,'X'])*(dt.loc[:,'Y'])\n",
    "    x2 = (dt.loc[:,'X'])*(dt.loc[:,'X'])\n",
    "    x3 = (dt.loc[:,'X'])*(dt.loc[:,'X'])*(dt.loc[:,'X'])\n",
    "    x4 = (dt.loc[:,'X'])*(dt.loc[:,'X'])*(dt.loc[:,'X'])*(dt.loc[:,'X'])\n",
    "    x2y = (dt.loc[:,'X'])*(dt.loc[:,'X'])*(dt.loc[:,'Y'])\n",
    "    #Agregar columnas\n",
    "    dt['XY'] = xy\n",
    "    dt['X2'] = x2\n",
    "    dt['X3'] = x3\n",
    "    dt['X4'] = x4\n",
    "    dt['X2Y'] = x2y\n",
    "    #Sumatorias\n",
    "    sx = sum(dt.X)\n",
    "    sy = sum(dt.Y)\n",
    "    sx2 = sum(dt.X2)\n",
    "    sx3 = sum(dt.X3)\n",
    "    sx4 = sum(dt.X4)\n",
    "    sx2y = sum(dt.X2Y)\n",
    "    sxy = sum(dt.XY)\n",
    "    #Definimos otra funcion\n",
    "    def calcularDeterminante(a1,b1,c1,a2,b2,c2,a3,b3,c3):\n",
    "        determ = (a1*b2*c3 + b1 * c2*a3 + a2 * b3*c1) - (c1*b2*a3 + b1 * a2*c3 + c2 * b3*a1)\n",
    "        return determ\n",
    "    #Continuamos calculando las determinantes\n",
    "    #El numero 11 representa la longitud del dataframe\n",
    "    Determinante = calcularDeterminante(11, sx, sx2, sx, sx2, sx3, sx2, sx3, sx4)\n",
    "    DeterminanteX = calcularDeterminante(sy, sx, sx2, sxy, sx2, sx3, sx2y, sx3, sx4)\n",
    "    DeterminanteY = calcularDeterminante(11, sy, sx2, sx, sxy, sx3, sx2, sx2y, sx4)\n",
    "    DeterminanteZ = calcularDeterminante(11, sx, sy, sx, sx2, sxy, sx2, sx3, sx2y)\n",
    "    #Calculamos los coeficientes de la funcion\n",
    "    #La funcion tiene la forma: y = a0 + a1*x + a2*(x^2)\n",
    "    a0 = DeterminanteX / Determinante\n",
    "    a1 = DeterminanteY / Determinante\n",
    "    a2 = DeterminanteZ / Determinante\n",
    "    #Ahora que ya tenemos los coeficientes determinamos la recta en funcion de X\n",
    "    rectaY = a0 + (a1*newx) + (a2*(newx*newx))\n",
    "    #Retornamos el valor de Y en funcion de X\n",
    "    return rectaY"
   ]
  },
  {
   "cell_type": "code",
   "execution_count": 69,
   "metadata": {},
   "outputs": [
    {
     "data": {
      "text/plain": [
       "26.39596989560573"
      ]
     },
     "execution_count": 69,
     "metadata": {},
     "output_type": "execute_result"
    }
   ],
   "source": [
    "#Calcular nuevo X con metodo de minimos cuadrados\n",
    "calcularMinCuadrados(datos, 28)"
   ]
  }
 ],
 "metadata": {
  "kernelspec": {
   "display_name": "Python 3",
   "language": "python",
   "name": "python3"
  },
  "language_info": {
   "codemirror_mode": {
    "name": "ipython",
    "version": 3
   },
   "file_extension": ".py",
   "mimetype": "text/x-python",
   "name": "python",
   "nbconvert_exporter": "python",
   "pygments_lexer": "ipython3",
   "version": "3.6.6"
  }
 },
 "nbformat": 4,
 "nbformat_minor": 2
}
